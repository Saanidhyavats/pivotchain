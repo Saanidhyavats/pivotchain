{
 "cells": [
  {
   "cell_type": "code",
   "execution_count": 1,
   "id": "7adf4e67",
   "metadata": {
    "_cell_guid": "b1076dfc-b9ad-4769-8c92-a6c4dae69d19",
    "_uuid": "8f2839f25d086af736a60e9eeb907d3b93b6e0e5",
    "execution": {
     "iopub.execute_input": "2022-04-12T06:26:48.522802Z",
     "iopub.status.busy": "2022-04-12T06:26:48.521793Z",
     "iopub.status.idle": "2022-04-12T06:26:48.529205Z",
     "shell.execute_reply": "2022-04-12T06:26:48.529710Z",
     "shell.execute_reply.started": "2022-04-12T06:07:30.739991Z"
    },
    "papermill": {
     "duration": 0.030392,
     "end_time": "2022-04-12T06:26:48.529972",
     "exception": false,
     "start_time": "2022-04-12T06:26:48.499580",
     "status": "completed"
    },
    "tags": []
   },
   "outputs": [],
   "source": [
    "# This Python 3 environment comes with many helpful analytics libraries installed\n",
    "# It is defined by the kaggle/python Docker image: https://github.com/kaggle/docker-python\n",
    "# For example, here's several helpful packages to load\n",
    "\n",
    "import numpy as np # linear algebra\n",
    "import pandas as pd # data processing, CSV file I/O (e.g. pd.read_csv)\n",
    "\n",
    "# Input data files are available in the read-only \"../input/\" directory\n",
    "# For example, running this (by clicking run or pressing Shift+Enter) will list all files under the input directory\n",
    "\n",
    "import os\n",
    "#for dirname, _, filenames in os.walk('/kaggle/input'):\n",
    "#    for filename in filenames:\n",
    "#        print(os.path.join(dirname, filename))\n",
    "\n",
    "# You can write up to 20GB to the current directory (/kaggle/working/) that gets preserved as output when you create a version using \"Save & Run All\" \n",
    "# You can also write temporary files to /kaggle/temp/, but they won't be saved outside of the current session"
   ]
  },
  {
   "cell_type": "code",
   "execution_count": 2,
   "id": "1a73a47c",
   "metadata": {
    "execution": {
     "iopub.execute_input": "2022-04-12T06:26:48.557783Z",
     "iopub.status.busy": "2022-04-12T06:26:48.557120Z",
     "iopub.status.idle": "2022-04-12T06:27:00.379881Z",
     "shell.execute_reply": "2022-04-12T06:27:00.381334Z",
     "shell.execute_reply.started": "2022-04-12T06:07:30.786454Z"
    },
    "papermill": {
     "duration": 11.841377,
     "end_time": "2022-04-12T06:27:00.381686",
     "exception": false,
     "start_time": "2022-04-12T06:26:48.540309",
     "status": "completed"
    },
    "tags": []
   },
   "outputs": [],
   "source": [
    "import keras\n",
    "import cv2\n",
    "import tensorflow as tf\n",
    "x_train=[]\n",
    "y_train=[]\n",
    "y_dir= '/kaggle/input/assignment/Assignment/Train_Data/Binary_Maps'\n",
    "for dirname, _, filenames in os.walk('/kaggle/input/assignment/Assignment/Train_Data/Originals'):\n",
    "    for filename in filenames:\n",
    "        x=cv2.imread(os.path.join(dirname, filename))\n",
    "        x=cv2.resize(x, (512, 512),interpolation = cv2.INTER_NEAREST)\n",
    "        y_file= filename[:-4]+'_torso.png'\n",
    "        y=cv2.imread(os.path.join(y_dir,y_file))\n",
    "        y=cv2.resize(y, (512, 512),interpolation = cv2.INTER_NEAREST)\n",
    "        y = cv2.cvtColor(y, cv2.COLOR_BGR2GRAY)\n",
    "        #y = cv2.merge((y,y,y))\n",
    "        #y_mask = cv2.bitwise_and(x, x, mask=y)\n",
    "        y_train.append(y)\n",
    "        x_train.append(x)"
   ]
  },
  {
   "cell_type": "code",
   "execution_count": 3,
   "id": "56f6aaec",
   "metadata": {
    "execution": {
     "iopub.execute_input": "2022-04-12T06:27:00.414873Z",
     "iopub.status.busy": "2022-04-12T06:27:00.413356Z",
     "iopub.status.idle": "2022-04-12T06:27:00.625005Z",
     "shell.execute_reply": "2022-04-12T06:27:00.624437Z",
     "shell.execute_reply.started": "2022-04-12T06:07:43.887528Z"
    },
    "papermill": {
     "duration": 0.226575,
     "end_time": "2022-04-12T06:27:00.625202",
     "exception": false,
     "start_time": "2022-04-12T06:27:00.398627",
     "status": "completed"
    },
    "tags": []
   },
   "outputs": [],
   "source": [
    "x_train=np.array(x_train)\n",
    "y_train=np.array(y_train)"
   ]
  },
  {
   "cell_type": "code",
   "execution_count": 4,
   "id": "b7596306",
   "metadata": {
    "execution": {
     "iopub.execute_input": "2022-04-12T06:27:00.651137Z",
     "iopub.status.busy": "2022-04-12T06:27:00.650208Z",
     "iopub.status.idle": "2022-04-12T06:27:13.558699Z",
     "shell.execute_reply": "2022-04-12T06:27:13.558094Z",
     "shell.execute_reply.started": "2022-04-12T06:07:44.052299Z"
    },
    "papermill": {
     "duration": 12.923764,
     "end_time": "2022-04-12T06:27:13.558881",
     "exception": false,
     "start_time": "2022-04-12T06:27:00.635117",
     "status": "completed"
    },
    "tags": []
   },
   "outputs": [
    {
     "name": "stdout",
     "output_type": "stream",
     "text": [
      "Collecting segmentation_models\r\n",
      "  Downloading segmentation_models-1.0.1-py3-none-any.whl (33 kB)\r\n",
      "Collecting keras-applications<=1.0.8,>=1.0.7\r\n",
      "  Downloading Keras_Applications-1.0.8-py3-none-any.whl (50 kB)\r\n",
      "     |████████████████████████████████| 50 kB 1.3 MB/s            \r\n",
      "\u001b[?25hCollecting efficientnet==1.0.0\r\n",
      "  Downloading efficientnet-1.0.0-py3-none-any.whl (17 kB)\r\n",
      "Collecting image-classifiers==1.0.0\r\n",
      "  Downloading image_classifiers-1.0.0-py3-none-any.whl (19 kB)\r\n",
      "Requirement already satisfied: scikit-image in /opt/conda/lib/python3.7/site-packages (from efficientnet==1.0.0->segmentation_models) (0.19.1)\r\n",
      "Requirement already satisfied: numpy>=1.9.1 in /opt/conda/lib/python3.7/site-packages (from keras-applications<=1.0.8,>=1.0.7->segmentation_models) (1.20.3)\r\n",
      "Requirement already satisfied: h5py in /opt/conda/lib/python3.7/site-packages (from keras-applications<=1.0.8,>=1.0.7->segmentation_models) (3.1.0)\r\n",
      "Requirement already satisfied: cached-property in /opt/conda/lib/python3.7/site-packages (from h5py->keras-applications<=1.0.8,>=1.0.7->segmentation_models) (1.5.2)\r\n",
      "Requirement already satisfied: scipy>=1.4.1 in /opt/conda/lib/python3.7/site-packages (from scikit-image->efficientnet==1.0.0->segmentation_models) (1.7.3)\r\n",
      "Requirement already satisfied: tifffile>=2019.7.26 in /opt/conda/lib/python3.7/site-packages (from scikit-image->efficientnet==1.0.0->segmentation_models) (2021.11.2)\r\n",
      "Requirement already satisfied: PyWavelets>=1.1.1 in /opt/conda/lib/python3.7/site-packages (from scikit-image->efficientnet==1.0.0->segmentation_models) (1.2.0)\r\n",
      "Requirement already satisfied: packaging>=20.0 in /opt/conda/lib/python3.7/site-packages (from scikit-image->efficientnet==1.0.0->segmentation_models) (21.3)\r\n",
      "Requirement already satisfied: networkx>=2.2 in /opt/conda/lib/python3.7/site-packages (from scikit-image->efficientnet==1.0.0->segmentation_models) (2.6.3)\r\n",
      "Requirement already satisfied: imageio>=2.4.1 in /opt/conda/lib/python3.7/site-packages (from scikit-image->efficientnet==1.0.0->segmentation_models) (2.9.0)\r\n",
      "Requirement already satisfied: pillow!=7.1.0,!=7.1.1,!=8.3.0,>=6.1.0 in /opt/conda/lib/python3.7/site-packages (from scikit-image->efficientnet==1.0.0->segmentation_models) (8.2.0)\r\n",
      "Requirement already satisfied: pyparsing!=3.0.5,>=2.0.2 in /opt/conda/lib/python3.7/site-packages (from packaging>=20.0->scikit-image->efficientnet==1.0.0->segmentation_models) (3.0.6)\r\n",
      "Installing collected packages: keras-applications, image-classifiers, efficientnet, segmentation-models\r\n",
      "Successfully installed efficientnet-1.0.0 image-classifiers-1.0.0 keras-applications-1.0.8 segmentation-models-1.0.1\r\n",
      "\u001b[33mWARNING: Running pip as the 'root' user can result in broken permissions and conflicting behaviour with the system package manager. It is recommended to use a virtual environment instead: https://pip.pypa.io/warnings/venv\u001b[0m\r\n"
     ]
    }
   ],
   "source": [
    "!pip install segmentation_models"
   ]
  },
  {
   "cell_type": "code",
   "execution_count": 5,
   "id": "1c493ed9",
   "metadata": {
    "execution": {
     "iopub.execute_input": "2022-04-12T06:27:13.597597Z",
     "iopub.status.busy": "2022-04-12T06:27:13.596558Z",
     "iopub.status.idle": "2022-04-12T06:27:13.601251Z",
     "shell.execute_reply": "2022-04-12T06:27:13.600580Z",
     "shell.execute_reply.started": "2022-04-12T06:07:53.181912Z"
    },
    "papermill": {
     "duration": 0.026248,
     "end_time": "2022-04-12T06:27:13.601378",
     "exception": false,
     "start_time": "2022-04-12T06:27:13.575130",
     "status": "completed"
    },
    "tags": []
   },
   "outputs": [
    {
     "name": "stdout",
     "output_type": "stream",
     "text": [
      "env: SM_FRAMEWORK=tf.keras\n"
     ]
    }
   ],
   "source": [
    "%env SM_FRAMEWORK=tf.keras"
   ]
  },
  {
   "cell_type": "code",
   "execution_count": 6,
   "id": "9c9463e2",
   "metadata": {
    "execution": {
     "iopub.execute_input": "2022-04-12T06:27:13.638557Z",
     "iopub.status.busy": "2022-04-12T06:27:13.637565Z",
     "iopub.status.idle": "2022-04-12T06:27:24.903993Z",
     "shell.execute_reply": "2022-04-12T06:27:24.904691Z",
     "shell.execute_reply.started": "2022-04-12T06:07:53.190463Z"
    },
    "papermill": {
     "duration": 11.288294,
     "end_time": "2022-04-12T06:27:24.904865",
     "exception": false,
     "start_time": "2022-04-12T06:27:13.616571",
     "status": "completed"
    },
    "tags": []
   },
   "outputs": [
    {
     "name": "stdout",
     "output_type": "stream",
     "text": [
      "Segmentation Models: using `tf.keras` framework.\n"
     ]
    },
    {
     "name": "stderr",
     "output_type": "stream",
     "text": [
      "2022-04-12 06:27:14.923556: I tensorflow/stream_executor/cuda/cuda_gpu_executor.cc:937] successful NUMA node read from SysFS had negative value (-1), but there must be at least one NUMA node, so returning NUMA node zero\n",
      "2022-04-12 06:27:15.039562: I tensorflow/stream_executor/cuda/cuda_gpu_executor.cc:937] successful NUMA node read from SysFS had negative value (-1), but there must be at least one NUMA node, so returning NUMA node zero\n",
      "2022-04-12 06:27:15.040701: I tensorflow/stream_executor/cuda/cuda_gpu_executor.cc:937] successful NUMA node read from SysFS had negative value (-1), but there must be at least one NUMA node, so returning NUMA node zero\n",
      "2022-04-12 06:27:15.042647: I tensorflow/core/platform/cpu_feature_guard.cc:142] This TensorFlow binary is optimized with oneAPI Deep Neural Network Library (oneDNN) to use the following CPU instructions in performance-critical operations:  AVX2 FMA\n",
      "To enable them in other operations, rebuild TensorFlow with the appropriate compiler flags.\n",
      "2022-04-12 06:27:15.043947: I tensorflow/stream_executor/cuda/cuda_gpu_executor.cc:937] successful NUMA node read from SysFS had negative value (-1), but there must be at least one NUMA node, so returning NUMA node zero\n",
      "2022-04-12 06:27:15.045055: I tensorflow/stream_executor/cuda/cuda_gpu_executor.cc:937] successful NUMA node read from SysFS had negative value (-1), but there must be at least one NUMA node, so returning NUMA node zero\n",
      "2022-04-12 06:27:15.046200: I tensorflow/stream_executor/cuda/cuda_gpu_executor.cc:937] successful NUMA node read from SysFS had negative value (-1), but there must be at least one NUMA node, so returning NUMA node zero\n",
      "2022-04-12 06:27:17.353613: I tensorflow/stream_executor/cuda/cuda_gpu_executor.cc:937] successful NUMA node read from SysFS had negative value (-1), but there must be at least one NUMA node, so returning NUMA node zero\n",
      "2022-04-12 06:27:17.354789: I tensorflow/stream_executor/cuda/cuda_gpu_executor.cc:937] successful NUMA node read from SysFS had negative value (-1), but there must be at least one NUMA node, so returning NUMA node zero\n",
      "2022-04-12 06:27:17.355857: I tensorflow/stream_executor/cuda/cuda_gpu_executor.cc:937] successful NUMA node read from SysFS had negative value (-1), but there must be at least one NUMA node, so returning NUMA node zero\n",
      "2022-04-12 06:27:17.356714: I tensorflow/core/common_runtime/gpu/gpu_device.cc:1510] Created device /job:localhost/replica:0/task:0/device:GPU:0 with 15403 MB memory:  -> device: 0, name: Tesla P100-PCIE-16GB, pci bus id: 0000:00:04.0, compute capability: 6.0\n"
     ]
    },
    {
     "name": "stdout",
     "output_type": "stream",
     "text": [
      "Downloading data from https://github.com/qubvel/classification_models/releases/download/0.0.1/resnet50_imagenet_1000_no_top.h5\n",
      "94593024/94592056 [==============================] - 5s 0us/step\n",
      "94601216/94592056 [==============================] - 5s 0us/step\n"
     ]
    }
   ],
   "source": [
    "import segmentation_models as sm\n",
    "\n",
    "BACKBONE = 'resnet50'\n",
    "preprocess_input = sm.get_preprocessing(BACKBONE)\n",
    "\n",
    "# load your data\n",
    "#x_train, y_train, x_val, y_val = load_data(...)\n",
    "\n",
    "# preprocess input\n",
    "#x_train = preprocess_input(x_train)\n",
    "#x_val = preprocess_input(x_val)\n",
    "\n",
    "# define model\n",
    "model = sm.Unet('resnet50', classes=1, activation='softmax')\n",
    "model.compile(\n",
    "    'Adam',\n",
    "    loss=sm.losses.bce_jaccard_loss,\n",
    "    metrics=[sm.metrics.iou_score],\n",
    ")\n",
    "\n",
    "# fit model\n",
    "# if you use data generator use model.fit_generator(...) instead of model.fit(...)\n",
    "# more about `fit_generator` here: https://keras.io/models/sequential/#fit_generator\n"
   ]
  },
  {
   "cell_type": "code",
   "execution_count": 7,
   "id": "4c2e655c",
   "metadata": {
    "execution": {
     "iopub.execute_input": "2022-04-12T06:27:24.989704Z",
     "iopub.status.busy": "2022-04-12T06:27:24.987185Z",
     "iopub.status.idle": "2022-04-12T06:53:51.194212Z",
     "shell.execute_reply": "2022-04-12T06:53:51.194780Z",
     "shell.execute_reply.started": "2022-04-12T06:07:58.804434Z"
    },
    "papermill": {
     "duration": 1586.250264,
     "end_time": "2022-04-12T06:53:51.194949",
     "exception": false,
     "start_time": "2022-04-12T06:27:24.944685",
     "status": "completed"
    },
    "tags": []
   },
   "outputs": [
    {
     "name": "stderr",
     "output_type": "stream",
     "text": [
      "/opt/conda/lib/python3.7/site-packages/tensorflow/python/data/ops/dataset_ops.py:4212: UserWarning: Even though the `tf.config.experimental_run_functions_eagerly` option is set, this option does not apply to tf.data functions. To force eager execution of tf.data functions, please use `tf.data.experimental.enable_debug_mode()`.\n",
      "  \"Even though the `tf.config.experimental_run_functions_eagerly` \"\n",
      "2022-04-12 06:27:26.810837: I tensorflow/compiler/mlir/mlir_graph_optimization_pass.cc:185] None of the MLIR Optimization Passes are enabled (registered 2)\n"
     ]
    },
    {
     "name": "stdout",
     "output_type": "stream",
     "text": [
      "Epoch 1/11\n"
     ]
    },
    {
     "name": "stderr",
     "output_type": "stream",
     "text": [
      "2022-04-12 06:27:27.710569: I tensorflow/stream_executor/cuda/cuda_dnn.cc:369] Loaded cuDNN version 8005\n"
     ]
    },
    {
     "name": "stdout",
     "output_type": "stream",
     "text": [
      "520/520 [==============================] - 144s 260ms/step - loss: -378.1452 - iou_score: 24.1519\n",
      "Epoch 2/11\n",
      "520/520 [==============================] - 136s 261ms/step - loss: -378.1453 - iou_score: 24.1519\n",
      "Epoch 3/11\n",
      "520/520 [==============================] - 137s 264ms/step - loss: -378.1452 - iou_score: 24.1519\n",
      "Epoch 4/11\n",
      "520/520 [==============================] - 137s 263ms/step - loss: -378.1452 - iou_score: 24.1519\n",
      "Epoch 5/11\n",
      "520/520 [==============================] - 138s 266ms/step - loss: -378.1453 - iou_score: 24.1519\n",
      "Epoch 6/11\n",
      "520/520 [==============================] - 139s 268ms/step - loss: -378.1452 - iou_score: 24.1519\n",
      "Epoch 7/11\n",
      "520/520 [==============================] - 139s 268ms/step - loss: -378.1453 - iou_score: 24.1519\n",
      "Epoch 8/11\n",
      "520/520 [==============================] - 140s 269ms/step - loss: -378.1454 - iou_score: 24.1519\n",
      "Epoch 9/11\n",
      "520/520 [==============================] - 142s 273ms/step - loss: -378.1452 - iou_score: 24.1519\n",
      "Epoch 10/11\n",
      "520/520 [==============================] - 142s 274ms/step - loss: -378.1451 - iou_score: 24.1519\n",
      "Epoch 11/11\n",
      "520/520 [==============================] - 142s 272ms/step - loss: -378.1452 - iou_score: 24.1519\n"
     ]
    },
    {
     "data": {
      "text/plain": [
       "<keras.callbacks.History at 0x7ff7c0055150>"
      ]
     },
     "execution_count": 7,
     "metadata": {},
     "output_type": "execute_result"
    }
   ],
   "source": [
    "y_train=y_train.astype('float32')\n",
    "tf.config.run_functions_eagerly(True)\n",
    "model.fit(\n",
    "   x=x_train,\n",
    "   y=y_train,\n",
    "   batch_size=1,\n",
    "   epochs=11,\n",
    "   #validation_data=(x_test, y_test),\n",
    ")"
   ]
  },
  {
   "cell_type": "code",
   "execution_count": null,
   "id": "bb8b7ec9",
   "metadata": {
    "papermill": {
     "duration": 3.002319,
     "end_time": "2022-04-12T06:53:56.505017",
     "exception": false,
     "start_time": "2022-04-12T06:53:53.502698",
     "status": "completed"
    },
    "tags": []
   },
   "outputs": [],
   "source": []
  }
 ],
 "metadata": {
  "kernelspec": {
   "display_name": "Python 3",
   "language": "python",
   "name": "python3"
  },
  "language_info": {
   "codemirror_mode": {
    "name": "ipython",
    "version": 3
   },
   "file_extension": ".py",
   "mimetype": "text/x-python",
   "name": "python",
   "nbconvert_exporter": "python",
   "pygments_lexer": "ipython3",
   "version": "3.7.12"
  },
  "papermill": {
   "default_parameters": {},
   "duration": 1643.102305,
   "end_time": "2022-04-12T06:54:01.962539",
   "environment_variables": {},
   "exception": null,
   "input_path": "__notebook__.ipynb",
   "output_path": "__notebook__.ipynb",
   "parameters": {},
   "start_time": "2022-04-12T06:26:38.860234",
   "version": "2.3.3"
  }
 },
 "nbformat": 4,
 "nbformat_minor": 5
}
